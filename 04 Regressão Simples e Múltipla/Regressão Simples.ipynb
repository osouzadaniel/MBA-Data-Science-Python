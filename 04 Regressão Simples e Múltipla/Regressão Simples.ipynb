{
 "cells": [
  {
   "cell_type": "markdown",
   "id": "e931dca6-8012-4790-a86e-78f64e66d4dc",
   "metadata": {},
   "source": [
    "# Regressão Simples"
   ]
  },
  {
   "cell_type": "markdown",
   "id": "13f6f18c-51dd-4ba0-8989-2adf4f30b5af",
   "metadata": {},
   "source": [
    "## Bibliotecas"
   ]
  },
  {
   "cell_type": "code",
   "execution_count": 1,
   "id": "6f4030f4-9f8f-4010-8369-3fb30edc062d",
   "metadata": {},
   "outputs": [],
   "source": [
    "import pandas as pd\n",
    "import numpy as np\n",
    "\n",
    "import matplotlib.pyplot as plt\n",
    "\n",
    "from scipy.stats import linregress\n",
    "import statsmodels.api as sm"
   ]
  },
  {
   "cell_type": "markdown",
   "id": "cc6ab7f4-c813-4994-a57f-40ee2c92ecf2",
   "metadata": {},
   "source": [
    "## Exemplo 1\n",
    "Dataset tempodist"
   ]
  },
  {
   "cell_type": "code",
   "execution_count": 2,
   "id": "3ce5e375-e78d-4acc-a750-7f1ec5a1839d",
   "metadata": {},
   "outputs": [
    {
     "data": {
      "text/html": [
       "<div>\n",
       "<style scoped>\n",
       "    .dataframe tbody tr th:only-of-type {\n",
       "        vertical-align: middle;\n",
       "    }\n",
       "\n",
       "    .dataframe tbody tr th {\n",
       "        vertical-align: top;\n",
       "    }\n",
       "\n",
       "    .dataframe thead th {\n",
       "        text-align: right;\n",
       "    }\n",
       "</style>\n",
       "<table border=\"1\" class=\"dataframe\">\n",
       "  <thead>\n",
       "    <tr style=\"text-align: right;\">\n",
       "      <th></th>\n",
       "      <th>tempo</th>\n",
       "      <th>distancia</th>\n",
       "    </tr>\n",
       "  </thead>\n",
       "  <tbody>\n",
       "    <tr>\n",
       "      <th>0</th>\n",
       "      <td>15.0</td>\n",
       "      <td>8.0</td>\n",
       "    </tr>\n",
       "    <tr>\n",
       "      <th>1</th>\n",
       "      <td>20.0</td>\n",
       "      <td>6.0</td>\n",
       "    </tr>\n",
       "    <tr>\n",
       "      <th>2</th>\n",
       "      <td>20.0</td>\n",
       "      <td>15.0</td>\n",
       "    </tr>\n",
       "    <tr>\n",
       "      <th>3</th>\n",
       "      <td>40.0</td>\n",
       "      <td>20.0</td>\n",
       "    </tr>\n",
       "    <tr>\n",
       "      <th>4</th>\n",
       "      <td>50.0</td>\n",
       "      <td>25.0</td>\n",
       "    </tr>\n",
       "    <tr>\n",
       "      <th>5</th>\n",
       "      <td>25.0</td>\n",
       "      <td>11.0</td>\n",
       "    </tr>\n",
       "    <tr>\n",
       "      <th>6</th>\n",
       "      <td>10.0</td>\n",
       "      <td>5.0</td>\n",
       "    </tr>\n",
       "    <tr>\n",
       "      <th>7</th>\n",
       "      <td>55.0</td>\n",
       "      <td>32.0</td>\n",
       "    </tr>\n",
       "    <tr>\n",
       "      <th>8</th>\n",
       "      <td>35.0</td>\n",
       "      <td>28.0</td>\n",
       "    </tr>\n",
       "    <tr>\n",
       "      <th>9</th>\n",
       "      <td>30.0</td>\n",
       "      <td>20.0</td>\n",
       "    </tr>\n",
       "  </tbody>\n",
       "</table>\n",
       "</div>"
      ],
      "text/plain": [
       "   tempo  distancia\n",
       "0   15.0        8.0\n",
       "1   20.0        6.0\n",
       "2   20.0       15.0\n",
       "3   40.0       20.0\n",
       "4   50.0       25.0\n",
       "5   25.0       11.0\n",
       "6   10.0        5.0\n",
       "7   55.0       32.0\n",
       "8   35.0       28.0\n",
       "9   30.0       20.0"
      ]
     },
     "execution_count": 2,
     "metadata": {},
     "output_type": "execute_result"
    }
   ],
   "source": [
    "tempodist = pd.read_csv(\"dados/tempodist.csv\", dtype=np.float64)\n",
    "\n",
    "tempodist"
   ]
  },
  {
   "cell_type": "code",
   "execution_count": 3,
   "id": "f93401d9-7693-4cb3-89e9-34cee7c81b6a",
   "metadata": {},
   "outputs": [
    {
     "data": {
      "text/html": [
       "<div>\n",
       "<style scoped>\n",
       "    .dataframe tbody tr th:only-of-type {\n",
       "        vertical-align: middle;\n",
       "    }\n",
       "\n",
       "    .dataframe tbody tr th {\n",
       "        vertical-align: top;\n",
       "    }\n",
       "\n",
       "    .dataframe thead th {\n",
       "        text-align: right;\n",
       "    }\n",
       "</style>\n",
       "<table border=\"1\" class=\"dataframe\">\n",
       "  <thead>\n",
       "    <tr style=\"text-align: right;\">\n",
       "      <th></th>\n",
       "      <th>tempo</th>\n",
       "      <th>distancia</th>\n",
       "    </tr>\n",
       "  </thead>\n",
       "  <tbody>\n",
       "    <tr>\n",
       "      <th>count</th>\n",
       "      <td>10.00000</td>\n",
       "      <td>10.000000</td>\n",
       "    </tr>\n",
       "    <tr>\n",
       "      <th>mean</th>\n",
       "      <td>30.00000</td>\n",
       "      <td>17.000000</td>\n",
       "    </tr>\n",
       "    <tr>\n",
       "      <th>std</th>\n",
       "      <td>14.90712</td>\n",
       "      <td>9.510228</td>\n",
       "    </tr>\n",
       "    <tr>\n",
       "      <th>min</th>\n",
       "      <td>10.00000</td>\n",
       "      <td>5.000000</td>\n",
       "    </tr>\n",
       "    <tr>\n",
       "      <th>25%</th>\n",
       "      <td>20.00000</td>\n",
       "      <td>8.750000</td>\n",
       "    </tr>\n",
       "    <tr>\n",
       "      <th>50%</th>\n",
       "      <td>27.50000</td>\n",
       "      <td>17.500000</td>\n",
       "    </tr>\n",
       "    <tr>\n",
       "      <th>75%</th>\n",
       "      <td>38.75000</td>\n",
       "      <td>23.750000</td>\n",
       "    </tr>\n",
       "    <tr>\n",
       "      <th>max</th>\n",
       "      <td>55.00000</td>\n",
       "      <td>32.000000</td>\n",
       "    </tr>\n",
       "  </tbody>\n",
       "</table>\n",
       "</div>"
      ],
      "text/plain": [
       "          tempo  distancia\n",
       "count  10.00000  10.000000\n",
       "mean   30.00000  17.000000\n",
       "std    14.90712   9.510228\n",
       "min    10.00000   5.000000\n",
       "25%    20.00000   8.750000\n",
       "50%    27.50000  17.500000\n",
       "75%    38.75000  23.750000\n",
       "max    55.00000  32.000000"
      ]
     },
     "execution_count": 3,
     "metadata": {},
     "output_type": "execute_result"
    }
   ],
   "source": [
    "# Estatísticas univariadas\n",
    "tempodist.describe()"
   ]
  },
  {
   "cell_type": "code",
   "execution_count": 4,
   "id": "fecfca60-8138-40a5-8a6c-28621a195a75",
   "metadata": {},
   "outputs": [
    {
     "data": {
      "image/png": "[encoded data removed]",
      "text/plain": [
       "<Figure size 432x288 with 1 Axes>"
      ]
     },
     "metadata": {
      "needs_background": "light"
     },
     "output_type": "display_data"
    }
   ],
   "source": [
    "# Gráfico de dispersão\n",
    "plt.scatter(tempodist.distancia, tempodist.tempo)\n",
    "plt.xlabel(\"Distância\")\n",
    "plt.ylabel(\"Tempo\")\n",
    "plt.show()"
   ]
  },
  {
   "cell_type": "markdown",
   "id": "7119e771-740b-473f-aabd-454d87521aca",
   "metadata": {},
   "source": [
    "Regressão Linear Simples para o Exemplo 1\n",
    "\n",
    "**Pacote Scipy**"
   ]
  },
  {
   "cell_type": "code",
   "execution_count": 5,
   "id": "c8b14d16-0bc8-4aef-bf8d-ca09e5c0a6f5",
   "metadata": {},
   "outputs": [
    {
     "name": "stdout",
     "output_type": "stream",
     "text": [
      "Intercepto: 5.8784\n",
      "Inclinação: 1.4189\n",
      "R2: 0.8194\n",
      "P-valor: 0.000314\n",
      "Erro Padrão: 0.235497\n"
     ]
    }
   ],
   "source": [
    "resultado = linregress(tempodist.distancia, tempodist.tempo)\n",
    "\n",
    "print(f\"Intercepto: {resultado.intercept:.4f}\")\n",
    "print(f\"Inclinação: {resultado.slope:.4f}\")\n",
    "print(f\"R2: {resultado.rvalue**2:.4f}\")\n",
    "print(f\"P-valor: {resultado.pvalue:.6f}\")\n",
    "print(f\"Erro Padrão: {resultado.stderr:.6f}\")"
   ]
  },
  {
   "cell_type": "markdown",
   "id": "0586e041-db83-44f9-a677-87219029c420",
   "metadata": {},
   "source": [
    "**Pacote Statsmodels**"
   ]
  },
  {
   "cell_type": "code",
   "execution_count": 6,
   "id": "d3130bfd-d2cf-408b-92b4-0aa4ef78990d",
   "metadata": {},
   "outputs": [
    {
     "name": "stderr",
     "output_type": "stream",
     "text": [
      "C:\\Users\\Daniel Souza - PC\\anaconda\\lib\\site-packages\\statsmodels\\tsa\\tsatools.py:142: FutureWarning: In a future version of pandas all arguments of concat except for the argument 'objs' will be keyword-only\n",
      "  x = pd.concat(x[::order], 1)\n",
      "C:\\Users\\Daniel Souza - PC\\anaconda\\lib\\site-packages\\scipy\\stats\\stats.py:1541: UserWarning: kurtosistest only valid for n>=20 ... continuing anyway, n=10\n",
      "  warnings.warn(\"kurtosistest only valid for n>=20 ... continuing \"\n"
     ]
    },
    {
     "data": {
      "text/html": [
       "<table class=\"simpletable\">\n",
       "<caption>OLS Regression Results</caption>\n",
       "<tr>\n",
       "  <th>Dep. Variable:</th>          <td>tempo</td>      <th>  R-squared:         </th> <td>   0.819</td>\n",
       "</tr>\n",
       "<tr>\n",
       "  <th>Model:</th>                   <td>OLS</td>       <th>  Adj. R-squared:    </th> <td>   0.797</td>\n",
       "</tr>\n",
       "<tr>\n",
       "  <th>Method:</th>             <td>Least Squares</td>  <th>  F-statistic:       </th> <td>   36.30</td>\n",
       "</tr>\n",
       "<tr>\n",
       "  <th>Date:</th>             <td>Thu, 21 Oct 2021</td> <th>  Prob (F-statistic):</th> <td>0.000314</td>\n",
       "</tr>\n",
       "<tr>\n",
       "  <th>Time:</th>                 <td>18:07:29</td>     <th>  Log-Likelihood:    </th> <td> -32.123</td>\n",
       "</tr>\n",
       "<tr>\n",
       "  <th>No. Observations:</th>      <td>    10</td>      <th>  AIC:               </th> <td>   68.25</td>\n",
       "</tr>\n",
       "<tr>\n",
       "  <th>Df Residuals:</th>          <td>     8</td>      <th>  BIC:               </th> <td>   68.85</td>\n",
       "</tr>\n",
       "<tr>\n",
       "  <th>Df Model:</th>              <td>     1</td>      <th>                     </th>     <td> </td>   \n",
       "</tr>\n",
       "<tr>\n",
       "  <th>Covariance Type:</th>      <td>nonrobust</td>    <th>                     </th>     <td> </td>   \n",
       "</tr>\n",
       "</table>\n",
       "<table class=\"simpletable\">\n",
       "<tr>\n",
       "      <td></td>         <th>coef</th>     <th>std err</th>      <th>t</th>      <th>P>|t|</th>  <th>[0.025</th>    <th>0.975]</th>  \n",
       "</tr>\n",
       "<tr>\n",
       "  <th>const</th>     <td>    5.8784</td> <td>    4.532</td> <td>    1.297</td> <td> 0.231</td> <td>   -4.573</td> <td>   16.330</td>\n",
       "</tr>\n",
       "<tr>\n",
       "  <th>distancia</th> <td>    1.4189</td> <td>    0.235</td> <td>    6.025</td> <td> 0.000</td> <td>    0.876</td> <td>    1.962</td>\n",
       "</tr>\n",
       "</table>\n",
       "<table class=\"simpletable\">\n",
       "<tr>\n",
       "  <th>Omnibus:</th>       <td> 1.016</td> <th>  Durbin-Watson:     </th> <td>   2.099</td>\n",
       "</tr>\n",
       "<tr>\n",
       "  <th>Prob(Omnibus):</th> <td> 0.602</td> <th>  Jarque-Bera (JB):  </th> <td>   0.694</td>\n",
       "</tr>\n",
       "<tr>\n",
       "  <th>Skew:</th>          <td>-0.262</td> <th>  Prob(JB):          </th> <td>   0.707</td>\n",
       "</tr>\n",
       "<tr>\n",
       "  <th>Kurtosis:</th>      <td> 1.820</td> <th>  Cond. No.          </th> <td>    41.1</td>\n",
       "</tr>\n",
       "</table><br/><br/>Notes:<br/>[1] Standard Errors assume that the covariance matrix of the errors is correctly specified."
      ],
      "text/plain": [
       "<class 'statsmodels.iolib.summary.Summary'>\n",
       "\"\"\"\n",
       "                            OLS Regression Results                            \n",
       "==============================================================================\n",
       "Dep. Variable:                  tempo   R-squared:                       0.819\n",
       "Model:                            OLS   Adj. R-squared:                  0.797\n",
       "Method:                 Least Squares   F-statistic:                     36.30\n",
       "Date:                Thu, 21 Oct 2021   Prob (F-statistic):           0.000314\n",
       "Time:                        18:07:29   Log-Likelihood:                -32.123\n",
       "No. Observations:                  10   AIC:                             68.25\n",
       "Df Residuals:                       8   BIC:                             68.85\n",
       "Df Model:                           1                                         \n",
       "Covariance Type:            nonrobust                                         \n",
       "==============================================================================\n",
       "                 coef    std err          t      P>|t|      [0.025      0.975]\n",
       "------------------------------------------------------------------------------\n",
       "const          5.8784      4.532      1.297      0.231      -4.573      16.330\n",
       "distancia      1.4189      0.235      6.025      0.000       0.876       1.962\n",
       "==============================================================================\n",
       "Omnibus:                        1.016   Durbin-Watson:                   2.099\n",
       "Prob(Omnibus):                  0.602   Jarque-Bera (JB):                0.694\n",
       "Skew:                          -0.262   Prob(JB):                        0.707\n",
       "Kurtosis:                       1.820   Cond. No.                         41.1\n",
       "==============================================================================\n",
       "\n",
       "Notes:\n",
       "[1] Standard Errors assume that the covariance matrix of the errors is correctly specified.\n",
       "\"\"\""
      ]
     },
     "execution_count": 6,
     "metadata": {},
     "output_type": "execute_result"
    }
   ],
   "source": [
    "# Adiciona o termo constante ao dataset (a fim de calcular o intercepto)\n",
    "X = sm.add_constant(tempodist.distancia)\n",
    "# modelo\n",
    "modelo = sm.OLS(tempodist.tempo, X).fit()\n",
    "\n",
    "# Visualiza estatísticas\n",
    "modelo.summary()"
   ]
  },
  {
   "cell_type": "markdown",
   "id": "6da6451a-769c-49ea-99b8-b604a9d7a59f",
   "metadata": {},
   "source": [
    "Salvando fitted values e resíduos no dataset"
   ]
  },
  {
   "cell_type": "code",
   "execution_count": 7,
   "id": "612547f5-5c95-4f26-a924-9d9c13512a3a",
   "metadata": {},
   "outputs": [],
   "source": [
    "tempodist['yhat'] = pd.Series(modelo.predict(X))\n",
    "tempodist['residuos'] = tempodist['tempo'] - tempodist['yhat']"
   ]
  },
  {
   "cell_type": "code",
   "execution_count": 8,
   "id": "b272bec2-d5f7-41b5-8ab2-5aa2c31482ab",
   "metadata": {},
   "outputs": [
    {
     "data": {
      "text/html": [
       "<div>\n",
       "<style scoped>\n",
       "    .dataframe tbody tr th:only-of-type {\n",
       "        vertical-align: middle;\n",
       "    }\n",
       "\n",
       "    .dataframe tbody tr th {\n",
       "        vertical-align: top;\n",
       "    }\n",
       "\n",
       "    .dataframe thead th {\n",
       "        text-align: right;\n",
       "    }\n",
       "</style>\n",
       "<table border=\"1\" class=\"dataframe\">\n",
       "  <thead>\n",
       "    <tr style=\"text-align: right;\">\n",
       "      <th></th>\n",
       "      <th>tempo</th>\n",
       "      <th>distancia</th>\n",
       "      <th>yhat</th>\n",
       "      <th>residuos</th>\n",
       "    </tr>\n",
       "  </thead>\n",
       "  <tbody>\n",
       "    <tr>\n",
       "      <th>0</th>\n",
       "      <td>15.0</td>\n",
       "      <td>8.0</td>\n",
       "      <td>17.229730</td>\n",
       "      <td>-2.229730</td>\n",
       "    </tr>\n",
       "    <tr>\n",
       "      <th>1</th>\n",
       "      <td>20.0</td>\n",
       "      <td>6.0</td>\n",
       "      <td>14.391892</td>\n",
       "      <td>5.608108</td>\n",
       "    </tr>\n",
       "    <tr>\n",
       "      <th>2</th>\n",
       "      <td>20.0</td>\n",
       "      <td>15.0</td>\n",
       "      <td>27.162162</td>\n",
       "      <td>-7.162162</td>\n",
       "    </tr>\n",
       "    <tr>\n",
       "      <th>3</th>\n",
       "      <td>40.0</td>\n",
       "      <td>20.0</td>\n",
       "      <td>34.256757</td>\n",
       "      <td>5.743243</td>\n",
       "    </tr>\n",
       "    <tr>\n",
       "      <th>4</th>\n",
       "      <td>50.0</td>\n",
       "      <td>25.0</td>\n",
       "      <td>41.351351</td>\n",
       "      <td>8.648649</td>\n",
       "    </tr>\n",
       "    <tr>\n",
       "      <th>5</th>\n",
       "      <td>25.0</td>\n",
       "      <td>11.0</td>\n",
       "      <td>21.486486</td>\n",
       "      <td>3.513514</td>\n",
       "    </tr>\n",
       "    <tr>\n",
       "      <th>6</th>\n",
       "      <td>10.0</td>\n",
       "      <td>5.0</td>\n",
       "      <td>12.972973</td>\n",
       "      <td>-2.972973</td>\n",
       "    </tr>\n",
       "    <tr>\n",
       "      <th>7</th>\n",
       "      <td>55.0</td>\n",
       "      <td>32.0</td>\n",
       "      <td>51.283784</td>\n",
       "      <td>3.716216</td>\n",
       "    </tr>\n",
       "    <tr>\n",
       "      <th>8</th>\n",
       "      <td>35.0</td>\n",
       "      <td>28.0</td>\n",
       "      <td>45.608108</td>\n",
       "      <td>-10.608108</td>\n",
       "    </tr>\n",
       "    <tr>\n",
       "      <th>9</th>\n",
       "      <td>30.0</td>\n",
       "      <td>20.0</td>\n",
       "      <td>34.256757</td>\n",
       "      <td>-4.256757</td>\n",
       "    </tr>\n",
       "  </tbody>\n",
       "</table>\n",
       "</div>"
      ],
      "text/plain": [
       "   tempo  distancia       yhat   residuos\n",
       "0   15.0        8.0  17.229730  -2.229730\n",
       "1   20.0        6.0  14.391892   5.608108\n",
       "2   20.0       15.0  27.162162  -7.162162\n",
       "3   40.0       20.0  34.256757   5.743243\n",
       "4   50.0       25.0  41.351351   8.648649\n",
       "5   25.0       11.0  21.486486   3.513514\n",
       "6   10.0        5.0  12.972973  -2.972973\n",
       "7   55.0       32.0  51.283784   3.716216\n",
       "8   35.0       28.0  45.608108 -10.608108\n",
       "9   30.0       20.0  34.256757  -4.256757"
      ]
     },
     "execution_count": 8,
     "metadata": {},
     "output_type": "execute_result"
    }
   ],
   "source": [
    "tempodist"
   ]
  },
  {
   "cell_type": "markdown",
   "id": "5323b7c4-cf14-4e84-b8b1-02bc9345a64e",
   "metadata": {},
   "source": [
    "Visualização do $R^2$"
   ]
  },
  {
   "cell_type": "code",
   "execution_count": 9,
   "id": "c60c5587-91e4-4f62-893f-53f273ca95a8",
   "metadata": {},
   "outputs": [
    {
     "data": {
      "image/png": "[encoded data removed]",
      "text/plain": [
       "<Figure size 720x576 with 1 Axes>"
      ]
     },
     "metadata": {
      "needs_background": "light"
     },
     "output_type": "display_data"
    }
   ],
   "source": [
    "plt.figure(figsize=(10,8))\n",
    "plt.scatter(tempodist.distancia, tempodist.tempo)\n",
    "plt.plot(tempodist.distancia, tempodist.yhat, color='grey', linewidth=4, label='Fitted Values')\n",
    "plt.hlines(30, tempodist.distancia.min(), tempodist.distancia.max(), color='lightgrey')\n",
    "\n",
    "plt.vlines(tempodist.distancia, np.minimum(tempodist.yhat, 30) , np.maximum(tempodist.yhat, 30),\n",
    "           color = 'black', linestyles='dashed', label='Ychapéu - Ymédio')\n",
    "plt.vlines(tempodist.distancia, tempodist.tempo, tempodist.yhat,\n",
    "           color = 'green', linestyles='dotted', linewidth=2, label='Erro = Y - Ychapéu')\n",
    "\n",
    "\n",
    "plt.legend()\n",
    "plt.xlabel(\"Distância\")\n",
    "plt.ylabel(\"Tempo\")\n",
    "plt.title(\"Visualização do R2\")\n",
    "plt.show()"
   ]
  },
  {
   "cell_type": "code",
   "execution_count": null,
   "id": "eae28f69-e560-4205-8bfc-11167453393c",
   "metadata": {},
   "outputs": [],
   "source": []
  }
 ],
 "metadata": {
  "kernelspec": {
   "display_name": "Python 3 (ipykernel)",
   "language": "python",
   "name": "python3"
  },
  "language_info": {
   "codemirror_mode": {
    "name": "ipython",
    "version": 3
   },
   "file_extension": ".py",
   "mimetype": "text/x-python",
   "name": "python",
   "nbconvert_exporter": "python",
   "pygments_lexer": "ipython3",
   "version": "3.8.11"
  }
 },
 "nbformat": 4,
 "nbformat_minor": 5
}
